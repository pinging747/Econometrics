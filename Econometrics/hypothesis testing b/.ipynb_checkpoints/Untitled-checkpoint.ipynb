{
 "cells": [
  {
   "cell_type": "code",
   "execution_count": 1,
   "metadata": {},
   "outputs": [],
   "source": [
    "import pandas as pd\n",
    "import numpy as np\n",
    "import statsmodels.formula.api as smf\n",
    "import matplotlib.pyplot as plt"
   ]
  },
  {
   "cell_type": "code",
   "execution_count": 2,
   "metadata": {},
   "outputs": [
    {
     "data": {
      "text/html": [
       "<div>\n",
       "<style scoped>\n",
       "    .dataframe tbody tr th:only-of-type {\n",
       "        vertical-align: middle;\n",
       "    }\n",
       "\n",
       "    .dataframe tbody tr th {\n",
       "        vertical-align: top;\n",
       "    }\n",
       "\n",
       "    .dataframe thead th {\n",
       "        text-align: right;\n",
       "    }\n",
       "</style>\n",
       "<table border=\"1\" class=\"dataframe\">\n",
       "  <thead>\n",
       "    <tr style=\"text-align: right;\">\n",
       "      <th></th>\n",
       "      <th>SANDP</th>\n",
       "      <th>FORD</th>\n",
       "      <th>GE</th>\n",
       "      <th>MICROSOFT</th>\n",
       "      <th>ORACLE</th>\n",
       "      <th>USTB3M</th>\n",
       "    </tr>\n",
       "    <tr>\n",
       "      <th>Date</th>\n",
       "      <th></th>\n",
       "      <th></th>\n",
       "      <th></th>\n",
       "      <th></th>\n",
       "      <th></th>\n",
       "      <th></th>\n",
       "    </tr>\n",
       "  </thead>\n",
       "  <tbody>\n",
       "    <tr>\n",
       "      <th>2002-01-01</th>\n",
       "      <td>1130.20</td>\n",
       "      <td>12.57</td>\n",
       "      <td>25.70</td>\n",
       "      <td>27.33</td>\n",
       "      <td>16.64</td>\n",
       "      <td>1.73</td>\n",
       "    </tr>\n",
       "    <tr>\n",
       "      <th>2002-02-01</th>\n",
       "      <td>1106.73</td>\n",
       "      <td>12.23</td>\n",
       "      <td>26.75</td>\n",
       "      <td>25.02</td>\n",
       "      <td>16.03</td>\n",
       "      <td>1.75</td>\n",
       "    </tr>\n",
       "    <tr>\n",
       "      <th>2002-03-01</th>\n",
       "      <td>1147.39</td>\n",
       "      <td>13.55</td>\n",
       "      <td>25.99</td>\n",
       "      <td>25.87</td>\n",
       "      <td>12.34</td>\n",
       "      <td>1.77</td>\n",
       "    </tr>\n",
       "    <tr>\n",
       "      <th>2002-04-01</th>\n",
       "      <td>1076.92</td>\n",
       "      <td>13.15</td>\n",
       "      <td>21.92</td>\n",
       "      <td>22.41</td>\n",
       "      <td>9.68</td>\n",
       "      <td>1.78</td>\n",
       "    </tr>\n",
       "    <tr>\n",
       "      <th>2002-05-01</th>\n",
       "      <td>1067.14</td>\n",
       "      <td>14.59</td>\n",
       "      <td>21.64</td>\n",
       "      <td>21.84</td>\n",
       "      <td>7.64</td>\n",
       "      <td>1.77</td>\n",
       "    </tr>\n",
       "  </tbody>\n",
       "</table>\n",
       "</div>"
      ],
      "text/plain": [
       "              SANDP   FORD     GE  MICROSOFT  ORACLE  USTB3M\n",
       "Date                                                        \n",
       "2002-01-01  1130.20  12.57  25.70      27.33   16.64    1.73\n",
       "2002-02-01  1106.73  12.23  26.75      25.02   16.03    1.75\n",
       "2002-03-01  1147.39  13.55  25.99      25.87   12.34    1.77\n",
       "2002-04-01  1076.92  13.15  21.92      22.41    9.68    1.78\n",
       "2002-05-01  1067.14  14.59  21.64      21.84    7.64    1.77"
      ]
     },
     "execution_count": 2,
     "metadata": {},
     "output_type": "execute_result"
    }
   ],
   "source": [
    "abspath = 'C:\\\\Users\\\\Rameez PC\\\\Documents\\\\GitHub\\\\Econometrics\\\\hypothesis testing b\\\\'\n",
    "data = pd.read_excel(abspath + 'capm.xls', index_col=0)\n",
    "data.head()"
   ]
  },
  {
   "cell_type": "code",
   "execution_count": 3,
   "metadata": {},
   "outputs": [],
   "source": [
    "def LogDiff(x):\n",
    "    x_diff = 100*np.log(x/x.shift(1))\n",
    "    x_diff = x_diff.dropna()\n",
    "    return x_diff\n",
    "\n"
   ]
  },
  {
   "cell_type": "code",
   "execution_count": 5,
   "metadata": {},
   "outputs": [],
   "source": [
    "data = pd.DataFrame({'ret_sandp' : LogDiff(data['SANDP']),\n",
    "'ret_ford' : LogDiff(data['FORD']),\n",
    "'USTB3M' : data['USTB3M']/12,\n",
    "'ersandp' : LogDiff(data['SANDP']) - data['USTB3M']/12,\n",
    "'erford' : LogDiff(data['FORD']) - data['USTB3M']/12})"
   ]
  },
  {
   "cell_type": "code",
   "execution_count": 6,
   "metadata": {},
   "outputs": [
    {
     "data": {
      "text/html": [
       "<div>\n",
       "<style scoped>\n",
       "    .dataframe tbody tr th:only-of-type {\n",
       "        vertical-align: middle;\n",
       "    }\n",
       "\n",
       "    .dataframe tbody tr th {\n",
       "        vertical-align: top;\n",
       "    }\n",
       "\n",
       "    .dataframe thead th {\n",
       "        text-align: right;\n",
       "    }\n",
       "</style>\n",
       "<table border=\"1\" class=\"dataframe\">\n",
       "  <thead>\n",
       "    <tr style=\"text-align: right;\">\n",
       "      <th></th>\n",
       "      <th>ret_sandp</th>\n",
       "      <th>ret_ford</th>\n",
       "      <th>USTB3M</th>\n",
       "      <th>ersandp</th>\n",
       "      <th>erford</th>\n",
       "    </tr>\n",
       "    <tr>\n",
       "      <th>Date</th>\n",
       "      <th></th>\n",
       "      <th></th>\n",
       "      <th></th>\n",
       "      <th></th>\n",
       "      <th></th>\n",
       "    </tr>\n",
       "  </thead>\n",
       "  <tbody>\n",
       "    <tr>\n",
       "      <th>2002-01-01</th>\n",
       "      <td>NaN</td>\n",
       "      <td>NaN</td>\n",
       "      <td>0.144167</td>\n",
       "      <td>NaN</td>\n",
       "      <td>NaN</td>\n",
       "    </tr>\n",
       "    <tr>\n",
       "      <th>2002-02-01</th>\n",
       "      <td>-2.098489</td>\n",
       "      <td>-2.742107</td>\n",
       "      <td>0.145833</td>\n",
       "      <td>-2.244322</td>\n",
       "      <td>-2.887941</td>\n",
       "    </tr>\n",
       "    <tr>\n",
       "      <th>2002-03-01</th>\n",
       "      <td>3.608008</td>\n",
       "      <td>10.249460</td>\n",
       "      <td>0.147500</td>\n",
       "      <td>3.460508</td>\n",
       "      <td>10.101960</td>\n",
       "    </tr>\n",
       "    <tr>\n",
       "      <th>2002-04-01</th>\n",
       "      <td>-6.338468</td>\n",
       "      <td>-2.996479</td>\n",
       "      <td>0.148333</td>\n",
       "      <td>-6.486802</td>\n",
       "      <td>-3.144812</td>\n",
       "    </tr>\n",
       "    <tr>\n",
       "      <th>2002-05-01</th>\n",
       "      <td>-0.912294</td>\n",
       "      <td>10.391460</td>\n",
       "      <td>0.147500</td>\n",
       "      <td>-1.059794</td>\n",
       "      <td>10.243960</td>\n",
       "    </tr>\n",
       "  </tbody>\n",
       "</table>\n",
       "</div>"
      ],
      "text/plain": [
       "            ret_sandp   ret_ford    USTB3M   ersandp     erford\n",
       "Date                                                           \n",
       "2002-01-01        NaN        NaN  0.144167       NaN        NaN\n",
       "2002-02-01  -2.098489  -2.742107  0.145833 -2.244322  -2.887941\n",
       "2002-03-01   3.608008  10.249460  0.147500  3.460508  10.101960\n",
       "2002-04-01  -6.338468  -2.996479  0.148333 -6.486802  -3.144812\n",
       "2002-05-01  -0.912294  10.391460  0.147500 -1.059794  10.243960"
      ]
     },
     "execution_count": 6,
     "metadata": {},
     "output_type": "execute_result"
    }
   ],
   "source": [
    "data.head()"
   ]
  },
  {
   "cell_type": "code",
   "execution_count": 11,
   "metadata": {},
   "outputs": [
    {
     "data": {
      "image/png": "[encoded data removed]",
      "text/plain": [
       "<Figure size 432x288 with 1 Axes>"
      ]
     },
     "metadata": {
      "needs_background": "light"
     },
     "output_type": "display_data"
    }
   ],
   "source": [
    "plt.figure(0)\n",
    "plt.plot(data['ersandp'], label='ersandp')\n",
    "plt.plot(data['erford'], label='erford')\n",
    "plt.xlabel('Date')\n",
    "plt.ylabel('ersandp/erford')\n",
    "plt.title('Graph')\n",
    "plt.grid(True)\n",
    "plt.legend()\n",
    "plt.show()"
   ]
  },
  {
   "cell_type": "code",
   "execution_count": 12,
   "metadata": {},
   "outputs": [
    {
     "data": {
      "image/png": "[encoded data removed]",
      "text/plain": [
       "<Figure size 432x288 with 1 Axes>"
      ]
     },
     "metadata": {
      "needs_background": "light"
     },
     "output_type": "display_data"
    }
   ],
   "source": [
    "plt.figure(1)\n",
    "plt.scatter(data['ersandp'], data['erford'])\n",
    "plt.xlabel('ersandp')\n",
    "plt.ylabel('erford')\n",
    "plt.title('Graph')\n",
    "plt.grid(True)\n",
    "plt.show()"
   ]
  },
  {
   "cell_type": "code",
   "execution_count": null,
   "metadata": {},
   "outputs": [],
   "source": [
    "# To estimate the CAPM equation, we employ the statsmodels.formula.api. As usual, we first run\n",
    "# the regression formula which is ’erford \u0018 ersandp’. Thus, the dependent variable (y) is the excess\n",
    "# return of Ford ’erford’ and it is regressed on a constant as well as the excess market return ’ersandp’.13\n",
    "# Next, we use the smf.ols() function followed by fit(). Note that we keep the default setting this in\n",
    "# case although the function fit() can allow for different treatments of the standard errors. Finally, the\n",
    "# result is outputted by summary(). The OLS regression results appear in the following code cell (see\n",
    "# In [5]).\n",
    "# For the case of the Ford stock, the CAPM regression equation takes the form\n",
    "# (RFord - r f ) = a + b(RM - r f ) + ut"
   ]
  },
  {
   "cell_type": "code",
   "execution_count": 13,
   "metadata": {},
   "outputs": [
    {
     "name": "stdout",
     "output_type": "stream",
     "text": [
      "                            OLS Regression Results                            \n",
      "==============================================================================\n",
      "Dep. Variable:                 erford   R-squared:                       0.353\n",
      "Model:                            OLS   Adj. R-squared:                  0.348\n",
      "Method:                 Least Squares   F-statistic:                     72.64\n",
      "Date:                Sun, 17 May 2020   Prob (F-statistic):           2.98e-14\n",
      "Time:                        13:28:00   Log-Likelihood:                -532.80\n",
      "No. Observations:                 135   AIC:                             1070.\n",
      "Df Residuals:                     133   BIC:                             1075.\n",
      "Df Model:                           1                                         \n",
      "Covariance Type:            nonrobust                                         \n",
      "==============================================================================\n",
      "                 coef    std err          t      P>|t|      [0.025      0.975]\n",
      "------------------------------------------------------------------------------\n",
      "Intercept     -0.3199      1.086     -0.294      0.769      -2.469       1.829\n",
      "ersandp        2.0262      0.238      8.523      0.000       1.556       2.496\n",
      "==============================================================================\n",
      "Omnibus:                       43.869   Durbin-Watson:                   2.588\n",
      "Prob(Omnibus):                  0.000   Jarque-Bera (JB):              222.310\n",
      "Skew:                           0.992   Prob(JB):                     5.32e-49\n",
      "Kurtosis:                       8.965   Cond. No.                         4.57\n",
      "==============================================================================\n",
      "\n",
      "Warnings:\n",
      "[1] Standard Errors assume that the covariance matrix of the errors is correctly specified.\n"
     ]
    }
   ],
   "source": [
    "formula = 'erford ~ ersandp'\n",
    "results = smf.ols(formula, data).fit()\n",
    "print(results.summary())"
   ]
  },
  {
   "cell_type": "code",
   "execution_count": null,
   "metadata": {},
   "outputs": [],
   "source": [
    "# What is the slope coefficient estimate?\n",
    "# and what does it signify? Is this coefficient statistically significant? The beta coefficient (the\n",
    "# slope) estimate is 2.0262 with a t-ratio of 8.523 and a corresponding p-value of 0.000. This suggests\n",
    "#that the excess return on the market proxy has highly significant explanatory power for the variability\n",
    "#of the excess return of Ford stock. "
   ]
  },
  {
   "cell_type": "code",
   "execution_count": null,
   "metadata": {},
   "outputs": [],
   "source": [
    "#Let us turn to the intercept now. What is the interpretation of\n",
    "#the intercept estimate? Is it statistically significant? The a estimate is –0.3199 with a t-ratio of –0.294\n",
    "# and a p-value of 0.769. Not statistically significant. Thus, we 'fail to reject'/retain the null hypothesis \n",
    "# that the a estimate is different from\n",
    "# 0, indicating that Ford stock does not seem to significantly out-perform or under-perform the overall\n",
    "#market. Its around 0 so does not over or under perform than the market.\n",
    "\n",
    "#Mathematically speaking, alpha is the rate of return that exceeds what was expected or \n",
    "#predicted by models like the capital asset pricing model (CAPM).\n",
    "\n",
    "# The fundamental quandary for investors of how get the highest return possible for the least \n",
    "# amount of risk can be measured by alpha. \n",
    "# It is a measurable way to determine whether a manager's skill has added value to a fund on a risk-adjusted basis."
   ]
  },
  {
   "cell_type": "code",
   "execution_count": null,
   "metadata": {},
   "outputs": [],
   "source": [
    "#Assume that we want to test the null hypothesis of whether the value of the population coefficient on\n",
    "#'ersandp' is equal to 1. How can we achieve this? The answer is to use the statsmodels.formula.api\n",
    "#library to launch a f_test and then to specify hypotheses = 'ersandp = 1'. By printing the result of the\n",
    "#f_test, the statistic for this hypothesis test appears in the output window. The F-statistic of 18.63 with\n",
    "#a corresponding p-value of 0 (at least up to the fourth decimal place. see e raised to the power implies its 0) \n",
    "#implies that the null hypothesis\n",
    "#of the CAPM beta of Ford stock being 1 is rejected and hence the estimated beta of 2.026\n",
    "#is significantly different from 1."
   ]
  },
  {
   "cell_type": "code",
   "execution_count": 15,
   "metadata": {},
   "outputs": [
    {
     "name": "stdout",
     "output_type": "stream",
     "text": [
      "<F test: F=array([[18.63204281]]), p=3.0722181679505155e-05, df_denom=133, df_num=1>\n"
     ]
    }
   ],
   "source": [
    "formula = 'erford ~ ersandp'\n",
    "hypotheses = 'ersandp = 1'\n",
    "results = smf.ols(formula, data).fit()\n",
    "# We can, of course, calculate the test statistics for this hypothesis test by hand; however, it is\n",
    "# easier if we let Python do this work. For this we use the Statsmodels function 'f_test'.\n",
    "f_test = results.f_test(hypotheses)\n",
    "print(f_test)"
   ]
  },
  {
   "cell_type": "code",
   "execution_count": null,
   "metadata": {},
   "outputs": [],
   "source": [
    "#  However, it is sometimes the case, especially if\n",
    "# the sample size is quite small and this leads to large standard errors, that many different hypotheses will all result in\n",
    "#non-rejection – for example, both H0 : b = 0 and H0 : b = 1 not rejected."
   ]
  }
 ],
 "metadata": {
  "kernelspec": {
   "display_name": "Python 3.7.2 32-bit",
   "language": "python",
   "name": "python37232bit6ed36a65d3434a11802d64fc314a2148"
  },
  "language_info": {
   "codemirror_mode": {
    "name": "ipython",
    "version": 3
   },
   "file_extension": ".py",
   "mimetype": "text/x-python",
   "name": "python",
   "nbconvert_exporter": "python",
   "pygments_lexer": "ipython3",
   "version": "3.7.2"
  }
 },
 "nbformat": 4,
 "nbformat_minor": 2
}
